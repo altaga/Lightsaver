{
  "nbformat": 4,
  "nbformat_minor": 0,
  "metadata": {
    "colab": {
      "private_outputs": true,
      "provenance": [],
      "authorship_tag": "ABX9TyMbN9JVOLMJCPyGGW5Zh0a3",
      "include_colab_link": true
    },
    "kernelspec": {
      "name": "python3",
      "display_name": "Python 3"
    },
    "language_info": {
      "name": "python"
    }
  },
  "cells": [
    {
      "cell_type": "markdown",
      "metadata": {
        "id": "view-in-github",
        "colab_type": "text"
      },
      "source": [
        "<a href=\"https://colab.research.google.com/github/altaga/Lightsaver/blob/main/DataAnalysis/Zillow_Data_Analisys.ipynb\" target=\"_parent\"><img src=\"https://colab.research.google.com/assets/colab-badge.svg\" alt=\"Open In Colab\"/></a>"
      ]
    },
    {
      "cell_type": "code",
      "source": [
        "!pip install miceforest"
      ],
      "metadata": {
        "id": "YIIZM5DV2T2n"
      },
      "execution_count": null,
      "outputs": []
    },
    {
      "cell_type": "markdown",
      "source": [
        "Import single family dataframe to python"
      ],
      "metadata": {
        "id": "8puIjxxU5lOQ"
      }
    },
    {
      "cell_type": "code",
      "execution_count": null,
      "metadata": {
        "id": "36daX97NzYeA"
      },
      "outputs": [],
      "source": [
        "import pandas as pd\n",
        "import miceforest as mf\n",
        "\n",
        "# Read in dataframe\n",
        "df = pd.read_csv('single.csv')"
      ]
    },
    {
      "cell_type": "markdown",
      "source": [
        "We are going to use a neural network algorithm to complete the dataframe and be able to perform a better analysis of property prices. We will use the famous MICE imputation data analysis algorithm."
      ],
      "metadata": {
        "id": "2QDi5lG9564S"
      }
    },
    {
      "cell_type": "code",
      "source": [
        "# Make sub dataframe with only numeric features\n",
        "df_numeric = df.drop(columns='State')\n",
        "\n",
        "# Convert type column to category (so that miceforest can handle as a categorical attribute rather than string)\n",
        "df['State'] = df['State'].astype('category')\n",
        "\n",
        "# Create an instance of the MICE algorithm\n",
        "imputer = mf.ImputationKernel(data=df,\n",
        "                              save_all_iterations=True,\n",
        "                              random_state=42)\n",
        "\n",
        "# Fit the imputer to the dataset. Set number of iterations to 3\n",
        "imputer.mice(3, verbose=True)\n",
        "\n",
        "# Generate the imputed dataset\n",
        "imputed_df = imputer.complete_data()\n",
        "\n",
        "# View the imputed dataset\n",
        "imputed_df"
      ],
      "metadata": {
        "id": "0AVh-JLv1LSR"
      },
      "execution_count": null,
      "outputs": []
    },
    {
      "cell_type": "markdown",
      "source": [
        "Once we have complete data, we will look at property prices to have a range from which we can calculate the approximate credits we should grant."
      ],
      "metadata": {
        "id": "iGGpF4h96iJ1"
      }
    },
    {
      "cell_type": "code",
      "source": [
        "imputed_df_mod = imputed_df.iloc[: , 1:]\n",
        "imputed_df_mod['average_all'] = imputed_df_mod.mean(axis=1)\n",
        "imputed_df_mod.sort_values('average_all')"
      ],
      "metadata": {
        "id": "0-iLE6zj2-uH"
      },
      "execution_count": null,
      "outputs": []
    },
    {
      "cell_type": "markdown",
      "source": [
        "We obtained a range of between $679-$9,313 in monthly rent, therefore the credits granted must be in this range, at least for the payment of rent, however these will have to be granted to clients with a good score.\n"
      ],
      "metadata": {
        "id": "54ajPkXj6urI"
      }
    },
    {
      "cell_type": "code",
      "source": [
        "imputed_df_mod.loc[:, 'average_all'].mean()"
      ],
      "metadata": {
        "id": "OO5qQEdT-Yy5"
      },
      "execution_count": null,
      "outputs": []
    },
    {
      "cell_type": "markdown",
      "source": [
        "Now obtaining the average of all the incomes of the dataset, we obtain the next value $1342"
      ],
      "metadata": {
        "id": "pEjgqHiQ-1Kq"
      }
    },
    {
      "cell_type": "code",
      "source": [
        "imputed_df.to_csv(\"singleCompleted.csv\")"
      ],
      "metadata": {
        "id": "6ow_XP3z1sho"
      },
      "execution_count": null,
      "outputs": []
    },
    {
      "cell_type": "markdown",
      "source": [
        "Finally, since we have the data that interests us, we are going to export the processed database so that anyone can use it."
      ],
      "metadata": {
        "id": "xBwQpHUK_mWz"
      }
    }
  ]
}